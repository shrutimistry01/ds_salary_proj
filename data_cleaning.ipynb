{
 "cells": [
  {
   "cell_type": "code",
   "execution_count": 4,
   "id": "90e54d8a",
   "metadata": {},
   "outputs": [],
   "source": [
    "import pandas as pd\n",
    "\n",
    "df = pd.read_csv(\"glassdoor_jobs.csv\")\n",
    "\n",
    "#Salary parsing\n",
    "\n",
    "df= df[df[\"Salary Estimate\"]!= \"-1\"]\n",
    "df = df.reset_index(drop=True)\n",
    "\n",
    "df[\"Salary Estimate\"] = df[\"Salary Estimate\"].apply(lambda x: (x.split(\"(\"))[0])\n",
    "\n",
    "df['per hour']= df['Salary Estimate'].apply(lambda x: 1 if \"per hour\" in x.lower() else 0)\n",
    "df['per month'] = df['Salary Estimate'].apply(lambda x: 1 if \"T\" in x.upper() else 0)\n",
    "df['sal_lac'] = df['Salary Estimate'].apply(lambda x: 1 if \"L\" in x.upper() else 0)\n",
    "\n",
    "\n",
    "\n",
    "minus_rlt = df['Salary Estimate'].apply(lambda x : x.replace(\"₹\",\"\").replace(\"L\",\"\").replace(\"T\",\"\"))\n",
    "minus_hr = minus_rlt.apply(lambda x : x.lower().replace(\"per hour\",\"\"))\n",
    "minus_spc =minus_hr.apply(lambda x : x.replace(\" \",\"\").replace(\",\",\"\"))\n",
    "        \n",
    "df[\"min_sal\"]= minus_spc.apply(lambda x: int(x.split(\"-\")[0]))\n",
    "\n",
    " #since some element didnt have second part after\"-\"\n",
    "def maxEleErr(list):\n",
    "    y=[]\n",
    "    for x in list:\n",
    "        try:\n",
    "            y.append(int(x.split(\"-\")[1]))\n",
    "        except IndexError :\n",
    "            y.append(0)        \n",
    "    return y\n",
    "\n",
    "df[\"max_sal\"]= maxEleErr(minus_spc)\n",
    "df[\"avg_sal\"]= (df.min_sal + df.max_sal)/2\n",
    "    \n",
    "#company_age\n",
    "\n",
    "df[\"Founded\"]=df[\"Founded\"].apply(lambda x: x.replace(\"Company - Private\",\"-1\").replace(\"Company - Public\",\"-1\").replace(\"Subsidiary or Business Segment\",\"-1\").replace(\"Self-employed\",\"-1\").replace(\"Unknown\",\"-1\"))\n",
    "\n",
    "age= df.Founded.apply(lambda x : int(x) ) \n",
    "\n",
    "df[\"company_age\"]= age.apply(lambda y : y if y<1 else 2022 - y ) \n",
    "\n",
    "#parsing of job description\n",
    "\n",
    "df[\"python\"]= df[\"Job Description\"].apply(lambda x : 1 if \"python\" in x.lower() else 0)\n",
    "df[\"R\"]= df[\"Job Description\"].apply(lambda x : 1 if \"R\" in x.lower() else 0)\n",
    "df[\"spark\"]= df[\"Job Description\"].apply(lambda x : 1 if \"spark\" in x.lower() else 0)\n",
    "df[\"machine_learning\"]= df[\"Job Description\"].apply(lambda x : 1 if \"machine\" in x.lower() else 0)\n",
    "df[\"AI\"]= df[\"Job Description\"].apply(lambda x : 1 if \"ai\" in x.lower() else 0)\n",
    "df[\"hadoop\"]= df[\"Job Description\"].apply(lambda x : 1 if \"hadoop\" in x.lower() else 0)\n",
    "df[\"sql\"]= df[\"Job Description\"].apply(lambda x : 1 if \"sql\" in x.lower() else 0)\n",
    "\n",
    "df.to_csv(\"salary_data_cleaned.csv\",index=False)"
   ]
  },
  {
   "cell_type": "code",
   "execution_count": null,
   "id": "a51c2a4b",
   "metadata": {},
   "outputs": [],
   "source": []
  }
 ],
 "metadata": {
  "kernelspec": {
   "display_name": "Python 3 (ipykernel)",
   "language": "python",
   "name": "python3"
  },
  "language_info": {
   "codemirror_mode": {
    "name": "ipython",
    "version": 3
   },
   "file_extension": ".py",
   "mimetype": "text/x-python",
   "name": "python",
   "nbconvert_exporter": "python",
   "pygments_lexer": "ipython3",
   "version": "3.9.7"
  }
 },
 "nbformat": 4,
 "nbformat_minor": 5
}
